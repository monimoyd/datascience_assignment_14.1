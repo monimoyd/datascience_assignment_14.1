{
 "cells": [
  {
   "cell_type": "markdown",
   "metadata": {},
   "source": [
    "## 1. Create an sqlalchemy engine using a sample from the data set\n",
    "\n",
    "## Steps:\n",
    "* Import all the packages needed from sqlalchemy\n",
    "* Create Base and Engine\n",
    "* Creae a class Adult with table name 'Adult' and fields: 'age', 'workclass', 'fnlwgt', 'education', 'education_num', 'marital_status', 'occupation', 'relationship', 'race', 'sex', 'capital_gain', 'capital_loss', 'hours_per_week', 'native_country', 'income'\n",
    "* Create a session and bind to Engine\n",
    "* Insert five records from the sample given and commit the session"
   ]
  },
  {
   "cell_type": "code",
   "execution_count": 1,
   "metadata": {},
   "outputs": [],
   "source": [
    "#Import all the packages needed from sqlalchemy\n",
    "from sqlalchemy import create_engine\n",
    "from sqlalchemy.ext.declarative import declarative_base\n",
    "from sqlalchemy import Column, Integer, String\n",
    "from sqlalchemy.orm import sessionmaker\n",
    "from sqlalchemy.ext.declarative import declarative_base\n",
    "from sqlalchemy import func"
   ]
  },
  {
   "cell_type": "code",
   "execution_count": 2,
   "metadata": {},
   "outputs": [],
   "source": [
    "# Create Base and Engine\n",
    "Base = declarative_base()\n",
    "engine = create_engine('sqlite:///:memory:', echo=True)"
   ]
  },
  {
   "cell_type": "code",
   "execution_count": 3,
   "metadata": {},
   "outputs": [],
   "source": [
    "class Adult(Base):\n",
    "...     __tablename__ = 'Adult'\n",
    "...\n",
    "...     id = Column(Integer, primary_key=True)\n",
    "...     age = Column(Integer)\n",
    "...     workclass = Column(String)\n",
    "...     fnlwgt = Column(String)\n",
    "...     education = Column(String)\n",
    "...     education_num = Column(String)\n",
    "...     marital_status = Column(String)\n",
    "...     occupation = Column(String)\n",
    "...     relationship = Column(String)\n",
    "...     race = Column(String)\n",
    "...     sex = Column(String)\n",
    "...     capital_gain = Column(Integer)\n",
    "...     capital_loss = Column(Integer)\n",
    "...     hours_per_week = Column(Integer)\n",
    "...     native_country = Column(String)\n",
    "...     income = Column(String)\n",
    "...\n",
    "...     def __repr__(self):\n",
    "...         return \"<Adult(age='%d', workclass='%s', fnlwgt='%s, education='%s', education_num='%s', marital_status='%s', occupation='%s', relationship='%s' race='%s', sex='%s', capital_gain='%d', capital_loss='%d', hours_per_week='%d', native_country='%s', income='%s')>\" % (\n",
    "...         self.age, self.workclass, self.fnlwgt, self.education, self.education_num, self.marital_status, self.occupation, self.relationship, self.race, self.sex, self.capital_gain, self.capital_loss, self.hours_per_week, self.native_country, self.income)"
   ]
  },
  {
   "cell_type": "code",
   "execution_count": 4,
   "metadata": {},
   "outputs": [
    {
     "data": {
      "text/plain": [
       "Table('Adult', MetaData(bind=None), Column('id', Integer(), table=<Adult>, primary_key=True, nullable=False), Column('age', Integer(), table=<Adult>), Column('workclass', String(), table=<Adult>), Column('fnlwgt', String(), table=<Adult>), Column('education', String(), table=<Adult>), Column('education_num', String(), table=<Adult>), Column('marital_status', String(), table=<Adult>), Column('occupation', String(), table=<Adult>), Column('relationship', String(), table=<Adult>), Column('race', String(), table=<Adult>), Column('sex', String(), table=<Adult>), Column('capital_gain', Integer(), table=<Adult>), Column('capital_loss', Integer(), table=<Adult>), Column('hours_per_week', Integer(), table=<Adult>), Column('native_country', String(), table=<Adult>), Column('income', String(), table=<Adult>), schema=None)"
      ]
     },
     "execution_count": 4,
     "metadata": {},
     "output_type": "execute_result"
    }
   ],
   "source": [
    "# Dipslay the Columns of Adult table\n",
    "Adult.__table__"
   ]
  },
  {
   "cell_type": "code",
   "execution_count": 5,
   "metadata": {},
   "outputs": [
    {
     "name": "stdout",
     "output_type": "stream",
     "text": [
      "2018-07-08 22:53:35,316 INFO sqlalchemy.engine.base.Engine SELECT CAST('test plain returns' AS VARCHAR(60)) AS anon_1\n",
      "2018-07-08 22:53:35,322 INFO sqlalchemy.engine.base.Engine ()\n",
      "2018-07-08 22:53:35,324 INFO sqlalchemy.engine.base.Engine SELECT CAST('test unicode returns' AS VARCHAR(60)) AS anon_1\n",
      "2018-07-08 22:53:35,325 INFO sqlalchemy.engine.base.Engine ()\n",
      "2018-07-08 22:53:35,327 INFO sqlalchemy.engine.base.Engine PRAGMA table_info(\"Adult\")\n",
      "2018-07-08 22:53:35,327 INFO sqlalchemy.engine.base.Engine ()\n",
      "2018-07-08 22:53:35,329 INFO sqlalchemy.engine.base.Engine \n",
      "CREATE TABLE \"Adult\" (\n",
      "\tid INTEGER NOT NULL, \n",
      "\tage INTEGER, \n",
      "\tworkclass VARCHAR, \n",
      "\tfnlwgt VARCHAR, \n",
      "\teducation VARCHAR, \n",
      "\teducation_num VARCHAR, \n",
      "\tmarital_status VARCHAR, \n",
      "\toccupation VARCHAR, \n",
      "\trelationship VARCHAR, \n",
      "\trace VARCHAR, \n",
      "\tsex VARCHAR, \n",
      "\tcapital_gain INTEGER, \n",
      "\tcapital_loss INTEGER, \n",
      "\thours_per_week INTEGER, \n",
      "\tnative_country VARCHAR, \n",
      "\tincome VARCHAR, \n",
      "\tPRIMARY KEY (id)\n",
      ")\n",
      "\n",
      "\n",
      "2018-07-08 22:53:35,330 INFO sqlalchemy.engine.base.Engine ()\n",
      "2018-07-08 22:53:35,331 INFO sqlalchemy.engine.base.Engine COMMIT\n"
     ]
    }
   ],
   "source": [
    "# Create Adult table\n",
    "Base.metadata.create_all(engine)"
   ]
  },
  {
   "cell_type": "code",
   "execution_count": 6,
   "metadata": {
    "scrolled": true
   },
   "outputs": [
    {
     "name": "stdout",
     "output_type": "stream",
     "text": [
      "2018-07-08 22:53:38,747 INFO sqlalchemy.engine.base.Engine BEGIN (implicit)\n",
      "2018-07-08 22:53:38,750 INFO sqlalchemy.engine.base.Engine INSERT INTO \"Adult\" (age, workclass, fnlwgt, education, education_num, marital_status, occupation, relationship, race, sex, capital_gain, capital_loss, hours_per_week, native_country, income) VALUES (?, ?, ?, ?, ?, ?, ?, ?, ?, ?, ?, ?, ?, ?, ?)\n",
      "2018-07-08 22:53:38,751 INFO sqlalchemy.engine.base.Engine ('39', 'State-gov', '77516', 'Bachelors', '13', 'Not-in-family', 'Adm-clerical', 'Never-married', 'White', 'Male', '2174', '0', '40', 'United-States', '<=50K')\n",
      "2018-07-08 22:53:38,752 INFO sqlalchemy.engine.base.Engine INSERT INTO \"Adult\" (age, workclass, fnlwgt, education, education_num, marital_status, occupation, relationship, race, sex, capital_gain, capital_loss, hours_per_week, native_country, income) VALUES (?, ?, ?, ?, ?, ?, ?, ?, ?, ?, ?, ?, ?, ?, ?)\n",
      "2018-07-08 22:53:38,753 INFO sqlalchemy.engine.base.Engine (50, 'Self-emp-not-inc', '83311', 'Bachelors', '13', 'Husband', 'Exec-managerial', 'Married-civ-spouse', 'White', 'Male', 0, 0, 23, 'United-States', '<=50K')\n",
      "2018-07-08 22:53:38,754 INFO sqlalchemy.engine.base.Engine INSERT INTO \"Adult\" (age, workclass, fnlwgt, education, education_num, marital_status, occupation, relationship, race, sex, capital_gain, capital_loss, hours_per_week, native_country, income) VALUES (?, ?, ?, ?, ?, ?, ?, ?, ?, ?, ?, ?, ?, ?, ?)\n",
      "2018-07-08 22:53:38,755 INFO sqlalchemy.engine.base.Engine (53, 'Private', '234721', '11th', '7', 'Not-in-family', 'Handlers-cleaners', 'Divorced', 'Black', 'Male', 0, 0, 40, 'United-States', '<=50K')\n",
      "2018-07-08 22:53:38,756 INFO sqlalchemy.engine.base.Engine INSERT INTO \"Adult\" (age, workclass, fnlwgt, education, education_num, marital_status, occupation, relationship, race, sex, capital_gain, capital_loss, hours_per_week, native_country, income) VALUES (?, ?, ?, ?, ?, ?, ?, ?, ?, ?, ?, ?, ?, ?, ?)\n",
      "2018-07-08 22:53:38,757 INFO sqlalchemy.engine.base.Engine (52, 'Self-emp-not-inc', '209642', 'HS-grad', '9', 'Husband', 'Exec-managerial', 'Married-civ-spouse', 'White', 'Male', 0, 0, 45, 'United-States', '>50K')\n",
      "2018-07-08 22:53:38,758 INFO sqlalchemy.engine.base.Engine INSERT INTO \"Adult\" (age, workclass, fnlwgt, education, education_num, marital_status, occupation, relationship, race, sex, capital_gain, capital_loss, hours_per_week, native_country, income) VALUES (?, ?, ?, ?, ?, ?, ?, ?, ?, ?, ?, ?, ?, ?, ?)\n",
      "2018-07-08 22:53:38,758 INFO sqlalchemy.engine.base.Engine (23, 'Private', '122272', 'Bachelors', '13', 'Own-child', 'Adm-clerical', 'Never-married', 'White', 'Female', 0, 0, 30, 'United-States', '<=50K')\n",
      "2018-07-08 22:53:38,759 INFO sqlalchemy.engine.base.Engine COMMIT\n"
     ]
    }
   ],
   "source": [
    "# Create a Session and bind to engine\n",
    "Session = sessionmaker(bind=engine)\n",
    "session = Session()\n",
    "\n",
    "# Add five records from the sample provided\n",
    "session.add_all([Adult(age='39', workclass='State-gov', fnlwgt='77516', education='Bachelors', education_num='13', relationship='Never-married', occupation='Adm-clerical', marital_status='Not-in-family',race='White', sex='Male', capital_gain='2174', capital_loss='0', hours_per_week='40', native_country='United-States', income='<=50K'),\n",
    "                 Adult(age=50, workclass='Self-emp-not-inc', fnlwgt='83311', education='Bachelors', education_num='13', relationship='Married-civ-spouse', occupation='Exec-managerial', marital_status='Husband',  race='White', sex='Male', capital_gain=0, capital_loss=0, hours_per_week=23, native_country='United-States', income='<=50K'),\n",
    "                 Adult(age=53, workclass='Private', fnlwgt='234721', education='11th', education_num='7', relationship='Divorced', occupation='Handlers-cleaners', marital_status='Not-in-family', race='Black', sex='Male', capital_gain=0, capital_loss=0, hours_per_week=40, native_country='United-States', income='<=50K'),\n",
    "                 Adult(age=52, workclass='Self-emp-not-inc', fnlwgt='209642', education='HS-grad', education_num='9', relationship='Married-civ-spouse', occupation='Exec-managerial', marital_status='Husband',  race='White', sex='Male', capital_gain=0, capital_loss=0, hours_per_week=45, native_country='United-States', income='>50K'),\n",
    "                 Adult(age=23, workclass='Private', fnlwgt='122272', education='Bachelors', education_num='13', relationship='Never-married', occupation='Adm-clerical', marital_status='Own-child',  race='White', sex='Female', capital_gain=0, capital_loss=0, hours_per_week=30, native_country='United-States', income='<=50K')\n",
    "                ])\n",
    "\n",
    "# Commit the inserted records\n",
    "session.commit()"
   ]
  },
  {
   "cell_type": "markdown",
   "metadata": {},
   "source": [
    "## 4. Write two filter queries\n",
    "\n",
    "## Steps:\n",
    "* Write a filter query for Adult whose income is '>50K' and assign to person_with_income_greater_50k\n",
    "*  Write a filter query for Adult whose age is less than 25 and assign to person_with_age_less_than_25"
   ]
  },
  {
   "cell_type": "code",
   "execution_count": 7,
   "metadata": {},
   "outputs": [
    {
     "name": "stdout",
     "output_type": "stream",
     "text": [
      "2018-07-08 22:53:52,687 INFO sqlalchemy.engine.base.Engine BEGIN (implicit)\n",
      "2018-07-08 22:53:52,690 INFO sqlalchemy.engine.base.Engine SELECT \"Adult\".id AS \"Adult_id\", \"Adult\".age AS \"Adult_age\", \"Adult\".workclass AS \"Adult_workclass\", \"Adult\".fnlwgt AS \"Adult_fnlwgt\", \"Adult\".education AS \"Adult_education\", \"Adult\".education_num AS \"Adult_education_num\", \"Adult\".marital_status AS \"Adult_marital_status\", \"Adult\".occupation AS \"Adult_occupation\", \"Adult\".relationship AS \"Adult_relationship\", \"Adult\".race AS \"Adult_race\", \"Adult\".sex AS \"Adult_sex\", \"Adult\".capital_gain AS \"Adult_capital_gain\", \"Adult\".capital_loss AS \"Adult_capital_loss\", \"Adult\".hours_per_week AS \"Adult_hours_per_week\", \"Adult\".native_country AS \"Adult_native_country\", \"Adult\".income AS \"Adult_income\" \n",
      "FROM \"Adult\" \n",
      "WHERE \"Adult\".income = ?\n",
      "2018-07-08 22:53:52,691 INFO sqlalchemy.engine.base.Engine ('>50K',)\n",
      "<Adult(age='52', workclass='Self-emp-not-inc', fnlwgt='209642, education='HS-grad', education_num='9', marital_status='Husband', occupation='Exec-managerial', relationship='Married-civ-spouse' race='White', sex='Male', capital_gain='0', capital_loss='0', hours_per_week='45', native_country='United-States', income='>50K')>\n"
     ]
    }
   ],
   "source": [
    "# Filter query for adult whose income is '>50K'\n",
    "person_with_income_greater_50k = session.query(Adult).filter_by(income='>50K').one()\n",
    "print(person_with_income_greater_50k)\n"
   ]
  },
  {
   "cell_type": "code",
   "execution_count": 8,
   "metadata": {},
   "outputs": [
    {
     "name": "stdout",
     "output_type": "stream",
     "text": [
      "2018-07-08 22:54:00,096 INFO sqlalchemy.engine.base.Engine SELECT \"Adult\".id AS \"Adult_id\", \"Adult\".age AS \"Adult_age\", \"Adult\".workclass AS \"Adult_workclass\", \"Adult\".fnlwgt AS \"Adult_fnlwgt\", \"Adult\".education AS \"Adult_education\", \"Adult\".education_num AS \"Adult_education_num\", \"Adult\".marital_status AS \"Adult_marital_status\", \"Adult\".occupation AS \"Adult_occupation\", \"Adult\".relationship AS \"Adult_relationship\", \"Adult\".race AS \"Adult_race\", \"Adult\".sex AS \"Adult_sex\", \"Adult\".capital_gain AS \"Adult_capital_gain\", \"Adult\".capital_loss AS \"Adult_capital_loss\", \"Adult\".hours_per_week AS \"Adult_hours_per_week\", \"Adult\".native_country AS \"Adult_native_country\", \"Adult\".income AS \"Adult_income\" \n",
      "FROM \"Adult\" \n",
      "WHERE age<25\n",
      "2018-07-08 22:54:00,097 INFO sqlalchemy.engine.base.Engine ()\n",
      "<Adult(age='23', workclass='Private', fnlwgt='122272, education='Bachelors', education_num='13', marital_status='Own-child', occupation='Adm-clerical', relationship='Never-married' race='White', sex='Female', capital_gain='0', capital_loss='0', hours_per_week='30', native_country='United-States', income='<=50K')>\n"
     ]
    }
   ],
   "source": [
    "# Filter query for adult whose age is less than 25\n",
    "from sqlalchemy import text\n",
    "person_with_age_less_than_25 = session.query(Adult).filter(text(\"age<25\")).one()\n",
    "print(person_with_age_less_than_25)"
   ]
  },
  {
   "cell_type": "markdown",
   "metadata": {},
   "source": [
    "## 5. Write two function queries\n",
    "\n",
    "## Steps:\n",
    "* Write a function query to return count of adults from Adult table group by marital_status\n",
    "* Write a function query to total number of records in Adult table\n"
   ]
  },
  {
   "cell_type": "code",
   "execution_count": 9,
   "metadata": {},
   "outputs": [
    {
     "name": "stdout",
     "output_type": "stream",
     "text": [
      "2018-07-08 22:54:07,059 INFO sqlalchemy.engine.base.Engine SELECT \"Adult\".marital_status AS \"Adult_marital_status\", count(\"Adult\".marital_status) AS count_1 \n",
      "FROM \"Adult\" GROUP BY \"Adult\".marital_status\n",
      "2018-07-08 22:54:07,060 INFO sqlalchemy.engine.base.Engine ()\n"
     ]
    },
    {
     "data": {
      "text/plain": [
       "[('Husband', 2), ('Not-in-family', 2), ('Own-child', 1)]"
      ]
     },
     "execution_count": 9,
     "metadata": {},
     "output_type": "execute_result"
    }
   ],
   "source": [
    "# Write a function query to return count of adults group by martial_status\n",
    "session.query(Adult.marital_status, func.count(Adult.marital_status)).group_by(Adult.marital_status).all()"
   ]
  },
  {
   "cell_type": "code",
   "execution_count": 10,
   "metadata": {
    "scrolled": true
   },
   "outputs": [
    {
     "name": "stdout",
     "output_type": "stream",
     "text": [
      "2018-07-08 22:54:10,763 INFO sqlalchemy.engine.base.Engine SELECT count(\"Adult\".id) AS count_1 \n",
      "FROM \"Adult\"\n",
      "2018-07-08 22:54:10,764 INFO sqlalchemy.engine.base.Engine ()\n",
      "Total number of records = 5\n"
     ]
    }
   ],
   "source": [
    "#Write a function query to total number of records in Adult table\n",
    "total_records = session.query(func.count(Adult.id)).scalar()\n",
    "print(\"Total number of records = \" + str(total_records))"
   ]
  },
  {
   "cell_type": "markdown",
   "metadata": {},
   "source": [
    "## 2. Write two basic update queries\n",
    "\n",
    "## Steps:\n",
    "* Update person_with_income_greater_50k by changing capital_loss field to 500, hours_per_week field to 42\n",
    "* Update person_with_age_less_than_25 by changing occupation to 'Exec-managerial'\n",
    "* Commit the session for the updated records\n",
    "* Query again for both person_with_income_greater_50k and person_with_age_less_than_25 and check that update has happened\n"
   ]
  },
  {
   "cell_type": "code",
   "execution_count": 11,
   "metadata": {},
   "outputs": [
    {
     "name": "stdout",
     "output_type": "stream",
     "text": [
      "2018-07-08 22:54:26,878 INFO sqlalchemy.engine.base.Engine UPDATE \"Adult\" SET capital_loss=?, hours_per_week=? WHERE \"Adult\".id = ?\n",
      "2018-07-08 22:54:26,880 INFO sqlalchemy.engine.base.Engine (500, 42, 4)\n",
      "2018-07-08 22:54:26,881 INFO sqlalchemy.engine.base.Engine UPDATE \"Adult\" SET occupation=? WHERE \"Adult\".id = ?\n",
      "2018-07-08 22:54:26,882 INFO sqlalchemy.engine.base.Engine ('Exec-managerial', 5)\n",
      "2018-07-08 22:54:26,883 INFO sqlalchemy.engine.base.Engine COMMIT\n"
     ]
    }
   ],
   "source": [
    "# Update person_with_income_greater_50k by changing capital_loss field to 500,\n",
    "# hours_per_week field to 42\n",
    "person_with_income_greater_50k.capital_loss=500\n",
    "person_with_income_greater_50k.hours_per_week=42\n",
    "\n",
    "# Update person_with_age_less_than_25 by changing occupation to 'Exec-managerial'\n",
    "person_with_age_less_than_25.occupation='Exec-managerial'\n",
    "\n",
    "# Commit the session for the updated records\n",
    "session.commit()"
   ]
  },
  {
   "cell_type": "code",
   "execution_count": 12,
   "metadata": {},
   "outputs": [
    {
     "name": "stdout",
     "output_type": "stream",
     "text": [
      "2018-07-08 22:54:30,015 INFO sqlalchemy.engine.base.Engine BEGIN (implicit)\n",
      "2018-07-08 22:54:30,017 INFO sqlalchemy.engine.base.Engine SELECT \"Adult\".id AS \"Adult_id\", \"Adult\".age AS \"Adult_age\", \"Adult\".workclass AS \"Adult_workclass\", \"Adult\".fnlwgt AS \"Adult_fnlwgt\", \"Adult\".education AS \"Adult_education\", \"Adult\".education_num AS \"Adult_education_num\", \"Adult\".marital_status AS \"Adult_marital_status\", \"Adult\".occupation AS \"Adult_occupation\", \"Adult\".relationship AS \"Adult_relationship\", \"Adult\".race AS \"Adult_race\", \"Adult\".sex AS \"Adult_sex\", \"Adult\".capital_gain AS \"Adult_capital_gain\", \"Adult\".capital_loss AS \"Adult_capital_loss\", \"Adult\".hours_per_week AS \"Adult_hours_per_week\", \"Adult\".native_country AS \"Adult_native_country\", \"Adult\".income AS \"Adult_income\" \n",
      "FROM \"Adult\" \n",
      "WHERE \"Adult\".income = ?\n",
      "2018-07-08 22:54:30,018 INFO sqlalchemy.engine.base.Engine ('>50K',)\n",
      "<Adult(age='52', workclass='Self-emp-not-inc', fnlwgt='209642, education='HS-grad', education_num='9', marital_status='Husband', occupation='Exec-managerial', relationship='Married-civ-spouse' race='White', sex='Male', capital_gain='0', capital_loss='500', hours_per_week='42', native_country='United-States', income='>50K')>\n"
     ]
    }
   ],
   "source": [
    "# Query again for both person_with_income_greater_50k and check that capital_loss and hours_per_week\n",
    "# are updated\n",
    "person_with_income_greater_50k = session.query(Adult).filter_by(income='>50K').one()\n",
    "print(person_with_income_greater_50k)"
   ]
  },
  {
   "cell_type": "code",
   "execution_count": 13,
   "metadata": {},
   "outputs": [
    {
     "name": "stdout",
     "output_type": "stream",
     "text": [
      "2018-07-08 22:54:33,620 INFO sqlalchemy.engine.base.Engine SELECT \"Adult\".id AS \"Adult_id\", \"Adult\".age AS \"Adult_age\", \"Adult\".workclass AS \"Adult_workclass\", \"Adult\".fnlwgt AS \"Adult_fnlwgt\", \"Adult\".education AS \"Adult_education\", \"Adult\".education_num AS \"Adult_education_num\", \"Adult\".marital_status AS \"Adult_marital_status\", \"Adult\".occupation AS \"Adult_occupation\", \"Adult\".relationship AS \"Adult_relationship\", \"Adult\".race AS \"Adult_race\", \"Adult\".sex AS \"Adult_sex\", \"Adult\".capital_gain AS \"Adult_capital_gain\", \"Adult\".capital_loss AS \"Adult_capital_loss\", \"Adult\".hours_per_week AS \"Adult_hours_per_week\", \"Adult\".native_country AS \"Adult_native_country\", \"Adult\".income AS \"Adult_income\" \n",
      "FROM \"Adult\" \n",
      "WHERE age<25\n",
      "2018-07-08 22:54:33,621 INFO sqlalchemy.engine.base.Engine ()\n",
      "<Adult(age='23', workclass='Private', fnlwgt='122272, education='Bachelors', education_num='13', marital_status='Own-child', occupation='Exec-managerial', relationship='Never-married' race='White', sex='Female', capital_gain='0', capital_loss='0', hours_per_week='30', native_country='United-States', income='<=50K')>\n"
     ]
    }
   ],
   "source": [
    "# Query again for both erson_with_age_less_than_25 and check that occupation field is updated\n",
    "person_with_age_less_than_25 = session.query(Adult).filter(text(\"age<25\")).one()\n",
    "print(person_with_age_less_than_25)"
   ]
  },
  {
   "cell_type": "markdown",
   "metadata": {},
   "source": [
    "## 3. Write two delete queries\n",
    "\n",
    "## Steps:\n",
    "* Delete person_with_income_greater_50k and person_with_age_less_than_25\n",
    "* Commit the session\n",
    "* Check that deleted records are no longer available"
   ]
  },
  {
   "cell_type": "code",
   "execution_count": 14,
   "metadata": {},
   "outputs": [
    {
     "name": "stdout",
     "output_type": "stream",
     "text": [
      "2018-07-08 22:54:39,389 INFO sqlalchemy.engine.base.Engine DELETE FROM \"Adult\" WHERE \"Adult\".id = ?\n",
      "2018-07-08 22:54:39,390 INFO sqlalchemy.engine.base.Engine ((4,), (5,))\n",
      "2018-07-08 22:54:39,392 INFO sqlalchemy.engine.base.Engine COMMIT\n"
     ]
    }
   ],
   "source": [
    "# Delete records person_with_income_greater_50k and person_with_age_less_than_25\n",
    "session.delete(person_with_income_greater_50k)\n",
    "session.delete(person_with_age_less_than_25)\n",
    "\n",
    "# Commit the session\n",
    "session.commit()"
   ]
  },
  {
   "cell_type": "code",
   "execution_count": 17,
   "metadata": {
    "scrolled": true
   },
   "outputs": [
    {
     "name": "stdout",
     "output_type": "stream",
     "text": [
      "2018-07-08 22:55:33,937 INFO sqlalchemy.engine.base.Engine SELECT \"Adult\".id AS \"Adult_id\", \"Adult\".age AS \"Adult_age\", \"Adult\".workclass AS \"Adult_workclass\", \"Adult\".fnlwgt AS \"Adult_fnlwgt\", \"Adult\".education AS \"Adult_education\", \"Adult\".education_num AS \"Adult_education_num\", \"Adult\".marital_status AS \"Adult_marital_status\", \"Adult\".occupation AS \"Adult_occupation\", \"Adult\".relationship AS \"Adult_relationship\", \"Adult\".race AS \"Adult_race\", \"Adult\".sex AS \"Adult_sex\", \"Adult\".capital_gain AS \"Adult_capital_gain\", \"Adult\".capital_loss AS \"Adult_capital_loss\", \"Adult\".hours_per_week AS \"Adult_hours_per_week\", \"Adult\".native_country AS \"Adult_native_country\", \"Adult\".income AS \"Adult_income\" \n",
      "FROM \"Adult\" \n",
      "WHERE \"Adult\".income = ?\n",
      "2018-07-08 22:55:33,939 INFO sqlalchemy.engine.base.Engine ('>50K',)\n"
     ]
    },
    {
     "ename": "NoResultFound",
     "evalue": "No row was found for one()",
     "output_type": "error",
     "traceback": [
      "\u001b[1;31m---------------------------------------------------------------------------\u001b[0m",
      "\u001b[1;31mNoResultFound\u001b[0m                             Traceback (most recent call last)",
      "\u001b[1;32m<ipython-input-17-b4a4c46e964b>\u001b[0m in \u001b[0;36m<module>\u001b[1;34m()\u001b[0m\n\u001b[0;32m      1\u001b[0m \u001b[1;31m# Query the DB again and check that there are no record for person_with_income_greater_50k\u001b[0m\u001b[1;33m\u001b[0m\u001b[1;33m\u001b[0m\u001b[0m\n\u001b[0;32m      2\u001b[0m \u001b[1;31m# It will throw an Exception NoResultFound\u001b[0m\u001b[1;33m\u001b[0m\u001b[1;33m\u001b[0m\u001b[0m\n\u001b[1;32m----> 3\u001b[1;33m \u001b[0mperson_with_income_greater_50k\u001b[0m \u001b[1;33m=\u001b[0m \u001b[0msession\u001b[0m\u001b[1;33m.\u001b[0m\u001b[0mquery\u001b[0m\u001b[1;33m(\u001b[0m\u001b[0mAdult\u001b[0m\u001b[1;33m)\u001b[0m\u001b[1;33m.\u001b[0m\u001b[0mfilter_by\u001b[0m\u001b[1;33m(\u001b[0m\u001b[0mincome\u001b[0m\u001b[1;33m=\u001b[0m\u001b[1;34m'>50K'\u001b[0m\u001b[1;33m)\u001b[0m\u001b[1;33m.\u001b[0m\u001b[0mone\u001b[0m\u001b[1;33m(\u001b[0m\u001b[1;33m)\u001b[0m\u001b[1;33m\u001b[0m\u001b[0m\n\u001b[0m\u001b[0;32m      4\u001b[0m \u001b[0mprint\u001b[0m\u001b[1;33m(\u001b[0m\u001b[0mperson_with_income_greater_50k\u001b[0m\u001b[1;33m)\u001b[0m\u001b[1;33m\u001b[0m\u001b[0m\n",
      "\u001b[1;32mE:\\anaconda\\lib\\site-packages\\sqlalchemy\\orm\\query.py\u001b[0m in \u001b[0;36mone\u001b[1;34m(self)\u001b[0m\n\u001b[0;32m   2841\u001b[0m         \u001b[1;32melse\u001b[0m\u001b[1;33m:\u001b[0m\u001b[1;33m\u001b[0m\u001b[0m\n\u001b[0;32m   2842\u001b[0m             \u001b[1;32mif\u001b[0m \u001b[0mret\u001b[0m \u001b[1;32mis\u001b[0m \u001b[1;32mNone\u001b[0m\u001b[1;33m:\u001b[0m\u001b[1;33m\u001b[0m\u001b[0m\n\u001b[1;32m-> 2843\u001b[1;33m                 \u001b[1;32mraise\u001b[0m \u001b[0morm_exc\u001b[0m\u001b[1;33m.\u001b[0m\u001b[0mNoResultFound\u001b[0m\u001b[1;33m(\u001b[0m\u001b[1;34m\"No row was found for one()\"\u001b[0m\u001b[1;33m)\u001b[0m\u001b[1;33m\u001b[0m\u001b[0m\n\u001b[0m\u001b[0;32m   2844\u001b[0m             \u001b[1;32mreturn\u001b[0m \u001b[0mret\u001b[0m\u001b[1;33m\u001b[0m\u001b[0m\n\u001b[0;32m   2845\u001b[0m \u001b[1;33m\u001b[0m\u001b[0m\n",
      "\u001b[1;31mNoResultFound\u001b[0m: No row was found for one()"
     ]
    }
   ],
   "source": [
    "# Query the DB again and check that there are no record for person_with_income_greater_50k\n",
    "# It will throw an Exception NoResultFound\n",
    "person_with_income_greater_50k = session.query(Adult).filter_by(income='>50K').one()\n",
    "print(person_with_income_greater_50k)"
   ]
  },
  {
   "cell_type": "code",
   "execution_count": 18,
   "metadata": {
    "scrolled": true
   },
   "outputs": [
    {
     "name": "stdout",
     "output_type": "stream",
     "text": [
      "2018-07-08 22:55:48,858 INFO sqlalchemy.engine.base.Engine SELECT \"Adult\".id AS \"Adult_id\", \"Adult\".age AS \"Adult_age\", \"Adult\".workclass AS \"Adult_workclass\", \"Adult\".fnlwgt AS \"Adult_fnlwgt\", \"Adult\".education AS \"Adult_education\", \"Adult\".education_num AS \"Adult_education_num\", \"Adult\".marital_status AS \"Adult_marital_status\", \"Adult\".occupation AS \"Adult_occupation\", \"Adult\".relationship AS \"Adult_relationship\", \"Adult\".race AS \"Adult_race\", \"Adult\".sex AS \"Adult_sex\", \"Adult\".capital_gain AS \"Adult_capital_gain\", \"Adult\".capital_loss AS \"Adult_capital_loss\", \"Adult\".hours_per_week AS \"Adult_hours_per_week\", \"Adult\".native_country AS \"Adult_native_country\", \"Adult\".income AS \"Adult_income\" \n",
      "FROM \"Adult\" \n",
      "WHERE age<25\n",
      "2018-07-08 22:55:48,859 INFO sqlalchemy.engine.base.Engine ()\n"
     ]
    },
    {
     "ename": "NoResultFound",
     "evalue": "No row was found for one()",
     "output_type": "error",
     "traceback": [
      "\u001b[1;31m---------------------------------------------------------------------------\u001b[0m",
      "\u001b[1;31mNoResultFound\u001b[0m                             Traceback (most recent call last)",
      "\u001b[1;32m<ipython-input-18-770536fce7fc>\u001b[0m in \u001b[0;36m<module>\u001b[1;34m()\u001b[0m\n\u001b[0;32m      1\u001b[0m \u001b[1;31m# Query the DB again and check that there are no record for person_with_age_less_than_25\u001b[0m\u001b[1;33m\u001b[0m\u001b[1;33m\u001b[0m\u001b[0m\n\u001b[0;32m      2\u001b[0m \u001b[1;31m# # It will throw an Exception NoResultFound\u001b[0m\u001b[1;33m\u001b[0m\u001b[1;33m\u001b[0m\u001b[0m\n\u001b[1;32m----> 3\u001b[1;33m \u001b[0mperson_with_age_less_than_25\u001b[0m \u001b[1;33m=\u001b[0m \u001b[0msession\u001b[0m\u001b[1;33m.\u001b[0m\u001b[0mquery\u001b[0m\u001b[1;33m(\u001b[0m\u001b[0mAdult\u001b[0m\u001b[1;33m)\u001b[0m\u001b[1;33m.\u001b[0m\u001b[0mfilter\u001b[0m\u001b[1;33m(\u001b[0m\u001b[0mtext\u001b[0m\u001b[1;33m(\u001b[0m\u001b[1;34m\"age<25\"\u001b[0m\u001b[1;33m)\u001b[0m\u001b[1;33m)\u001b[0m\u001b[1;33m.\u001b[0m\u001b[0mone\u001b[0m\u001b[1;33m(\u001b[0m\u001b[1;33m)\u001b[0m\u001b[1;33m\u001b[0m\u001b[0m\n\u001b[0m\u001b[0;32m      4\u001b[0m \u001b[0mprint\u001b[0m\u001b[1;33m(\u001b[0m\u001b[0mperson_with_age_less_than_25\u001b[0m\u001b[1;33m)\u001b[0m\u001b[1;33m\u001b[0m\u001b[0m\n",
      "\u001b[1;32mE:\\anaconda\\lib\\site-packages\\sqlalchemy\\orm\\query.py\u001b[0m in \u001b[0;36mone\u001b[1;34m(self)\u001b[0m\n\u001b[0;32m   2841\u001b[0m         \u001b[1;32melse\u001b[0m\u001b[1;33m:\u001b[0m\u001b[1;33m\u001b[0m\u001b[0m\n\u001b[0;32m   2842\u001b[0m             \u001b[1;32mif\u001b[0m \u001b[0mret\u001b[0m \u001b[1;32mis\u001b[0m \u001b[1;32mNone\u001b[0m\u001b[1;33m:\u001b[0m\u001b[1;33m\u001b[0m\u001b[0m\n\u001b[1;32m-> 2843\u001b[1;33m                 \u001b[1;32mraise\u001b[0m \u001b[0morm_exc\u001b[0m\u001b[1;33m.\u001b[0m\u001b[0mNoResultFound\u001b[0m\u001b[1;33m(\u001b[0m\u001b[1;34m\"No row was found for one()\"\u001b[0m\u001b[1;33m)\u001b[0m\u001b[1;33m\u001b[0m\u001b[0m\n\u001b[0m\u001b[0;32m   2844\u001b[0m             \u001b[1;32mreturn\u001b[0m \u001b[0mret\u001b[0m\u001b[1;33m\u001b[0m\u001b[0m\n\u001b[0;32m   2845\u001b[0m \u001b[1;33m\u001b[0m\u001b[0m\n",
      "\u001b[1;31mNoResultFound\u001b[0m: No row was found for one()"
     ]
    }
   ],
   "source": [
    "# Query the DB again and check that there are no record for person_with_age_less_than_25\n",
    "# # It will throw an Exception NoResultFound\n",
    "person_with_age_less_than_25 = session.query(Adult).filter(text(\"age<25\")).one()\n",
    "print(person_with_age_less_than_25)"
   ]
  },
  {
   "cell_type": "code",
   "execution_count": null,
   "metadata": {},
   "outputs": [],
   "source": []
  }
 ],
 "metadata": {
  "kernelspec": {
   "display_name": "Python 3",
   "language": "python",
   "name": "python3"
  },
  "language_info": {
   "codemirror_mode": {
    "name": "ipython",
    "version": 3
   },
   "file_extension": ".py",
   "mimetype": "text/x-python",
   "name": "python",
   "nbconvert_exporter": "python",
   "pygments_lexer": "ipython3",
   "version": "3.6.4"
  }
 },
 "nbformat": 4,
 "nbformat_minor": 2
}
